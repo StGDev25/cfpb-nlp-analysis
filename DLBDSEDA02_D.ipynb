{
 "cells": [
  {
   "cell_type": "markdown",
   "id": "b05948dd",
   "metadata": {},
   "source": [
    "# Thematische Analyse von Verbraucherbeschwerden mittels NLP\n",
    "\n",
    "# Inhalt:\n",
    "0) Voraussetzungen / Installation\n",
    "1) Dataset-Download (Kaggle)\n",
    "2) Daten einlesen & Spalten finden\n",
    "3) Vorverarbeitung (Bereinigung, Tokenisierung, Stopwords, Lemmatisierung)\n",
    "4) TF-IDF / Häufigkeitsanalyse\n",
    "5) Themenmodellierung (LDA) + pyLDAvis\n",
    "6) Optionales Clustering (k-Means) + Beispiele"
   ]
  },
  {
   "cell_type": "markdown",
   "id": "3e4fcf34",
   "metadata": {},
   "source": [
    "# 0) Voraussetzungen & Installation\n",
    "\n",
    "- Empfohlen: virtuelle Umgebung verwenden (venv). \n",
    "    Beispiel (Terminal):\n",
    "        python -m venv .venv\n",
    "\n",
    "source .venv/bin/python # unter Linux (WSL2)\n",
    "\n",
    "- Abhängigkeiten werden in requirements.txt abgelegt. \n",
    "Diese werden mit python -m pip install -r requirements.txt installiert."
   ]
  },
  {
   "cell_type": "code",
   "execution_count": 2,
   "id": "bb10b723",
   "metadata": {},
   "outputs": [
    {
     "name": "stdout",
     "output_type": "stream",
     "text": [
      "⚠️ requirements.txt existiert bereits. Nichts geändert.\n"
     ]
    }
   ],
   "source": [
    "# Erzeuge eine requirements.txt (einmal ausführen, wenn du willst)\n",
    "import os\n",
    "\n",
    "if not os.path.exists(\"requirements.txt\"):\n",
    "    requirements = '''pandas\n",
    "numpy\n",
    "scikit-learn\n",
    "nltk\n",
    "spacy\n",
    "gensim\n",
    "pyLDAvis\n",
    "matplotlib\n",
    "seaborn\n",
    "wordcloud\n",
    "kaggle\n",
    "tqdm\n",
    "'''\n",
    "    with open(\"requirements.txt\", \"w\") as f:\n",
    "        f.write(requirements)\n",
    "    print(\"✅ requirements.txt erstellt.\")\n",
    "else:\n",
    "    print(\"⚠️ requirements.txt existiert bereits. Nichts geändert.\")\n"
   ]
  }
 ],
 "metadata": {
  "kernelspec": {
   "display_name": ".venv",
   "language": "python",
   "name": "python3"
  },
  "language_info": {
   "codemirror_mode": {
    "name": "ipython",
    "version": 3
   },
   "file_extension": ".py",
   "mimetype": "text/x-python",
   "name": "python",
   "nbconvert_exporter": "python",
   "pygments_lexer": "ipython3",
   "version": "3.11.9"
  }
 },
 "nbformat": 4,
 "nbformat_minor": 5
}
